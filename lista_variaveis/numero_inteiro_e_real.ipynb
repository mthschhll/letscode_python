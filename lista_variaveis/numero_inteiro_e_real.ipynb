{
 "cells": [
  {
   "cell_type": "markdown",
   "metadata": {},
   "source": [
    "Faça um Programa que peça 2 números inteiros e um número real. Calcule\n",
    "e mostre:\n",
    "\n",
    "a) o produto do dobro do primeiro com metade do segundo.\n",
    "\n",
    "b) a soma do triplo do primeiro com o terceiro.\n",
    "\n",
    "c) o terceiro elevado ao cubo.\n"
   ]
  },
  {
   "cell_type": "code",
   "execution_count": 4,
   "metadata": {},
   "outputs": [
    {
     "name": "stdin",
     "output_type": "stream",
     "text": [
      "digite numero interiro:  5\n",
      "digite outro numero inteiro:  2\n",
      "digite numero real:  3\n"
     ]
    },
    {
     "name": "stdout",
     "output_type": "stream",
     "text": [
      "25.0\n",
      "18.0\n",
      "27.0\n"
     ]
    }
   ],
   "source": [
    "n1 = int(input('digite numero interiro: '))\n",
    "n2 = int(input('digite outro numero inteiro: '))\n",
    "nr = float(input('digite numero real: '))\n",
    "pergunta_A = (n1**2) * (n2/2)\n",
    "pergunta_B = (n1 * 3) + nr\n",
    "pergunta_C = nr**3\n",
    "\n",
    "print('{}\\n{}\\n{}'.format(pergunta_A, pergunta_B, pergunta_C))"
   ]
  },
  {
   "cell_type": "code",
   "execution_count": null,
   "metadata": {},
   "outputs": [],
   "source": []
  }
 ],
 "metadata": {
  "kernelspec": {
   "display_name": "Python 3",
   "language": "python",
   "name": "python3"
  },
  "language_info": {
   "codemirror_mode": {
    "name": "ipython",
    "version": 3
   },
   "file_extension": ".py",
   "mimetype": "text/x-python",
   "name": "python",
   "nbconvert_exporter": "python",
   "pygments_lexer": "ipython3",
   "version": "3.7.3"
  }
 },
 "nbformat": 4,
 "nbformat_minor": 4
}
