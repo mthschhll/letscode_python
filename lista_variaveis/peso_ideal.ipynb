{
 "cells": [
  {
   "cell_type": "markdown",
   "metadata": {},
   "source": [
    "Tendo como dados de entrada a altura de uma pessoa, construa um\n",
    "algoritmo que calcule seu peso ideal, usando a seguinte fórmula:\n",
    "Peso Ideal = (72.7*altura) – 58\n"
   ]
  },
  {
   "cell_type": "code",
   "execution_count": 2,
   "metadata": {},
   "outputs": [
    {
     "name": "stdin",
     "output_type": "stream",
     "text": [
      "digite sua altura:  1.81\n"
     ]
    },
    {
     "name": "stdout",
     "output_type": "stream",
     "text": [
      "73.59\n"
     ]
    }
   ],
   "source": [
    "user_altura = float(input('digite sua altura: '))\n",
    "pi = (72.7*user_altura) - 58\n",
    "\n",
    "print('{:.2f}'.format(pi))"
   ]
  },
  {
   "cell_type": "code",
   "execution_count": null,
   "metadata": {},
   "outputs": [],
   "source": []
  }
 ],
 "metadata": {
  "kernelspec": {
   "display_name": "Python 3",
   "language": "python",
   "name": "python3"
  },
  "language_info": {
   "codemirror_mode": {
    "name": "ipython",
    "version": 3
   },
   "file_extension": ".py",
   "mimetype": "text/x-python",
   "name": "python",
   "nbconvert_exporter": "python",
   "pygments_lexer": "ipython3",
   "version": "3.7.3"
  }
 },
 "nbformat": 4,
 "nbformat_minor": 4
}
