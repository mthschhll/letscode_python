{
 "cells": [
  {
   "cell_type": "markdown",
   "metadata": {},
   "source": [
    " Faça um Programa que peça dois números e imprima a soma"
   ]
  },
  {
   "cell_type": "code",
   "execution_count": 2,
   "metadata": {},
   "outputs": [
    {
     "name": "stdin",
     "output_type": "stream",
     "text": [
      "Digite primeiro numero:  1\n",
      "digite segundo numero:  2\n"
     ]
    },
    {
     "name": "stdout",
     "output_type": "stream",
     "text": [
      "a soma de 1.0 com 2.0 é igual a 3.0\n"
     ]
    }
   ],
   "source": [
    "num1 = float(input('Digite primeiro numero: '))\n",
    "num2 = float(input('digite segundo numero: '))\n",
    "print('a soma de {} com {} é igual a {}'.format(num1, num2, num1 + num2))"
   ]
  }
 ],
 "metadata": {
  "kernelspec": {
   "display_name": "Python 3",
   "language": "python",
   "name": "python3"
  },
  "language_info": {
   "codemirror_mode": {
    "name": "ipython",
    "version": 3
   },
   "file_extension": ".py",
   "mimetype": "text/x-python",
   "name": "python",
   "nbconvert_exporter": "python",
   "pygments_lexer": "ipython3",
   "version": "3.7.3"
  }
 },
 "nbformat": 4,
 "nbformat_minor": 4
}
