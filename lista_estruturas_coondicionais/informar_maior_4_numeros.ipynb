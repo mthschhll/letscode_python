{
 "cells": [
  {
   "cell_type": "markdown",
   "metadata": {},
   "source": [
    "Faça um programa que leia 4 números e informe o maior deles"
   ]
  },
  {
   "cell_type": "code",
   "execution_count": 6,
   "metadata": {},
   "outputs": [
    {
     "name": "stdin",
     "output_type": "stream",
     "text": [
      "digite 1o numero:  3\n",
      "digite 2o numero:  5\n",
      "digite 3o numero:  8\n",
      "digite 4o numero:  5\n"
     ]
    },
    {
     "name": "stdout",
     "output_type": "stream",
     "text": [
      "8\n"
     ]
    }
   ],
   "source": [
    "num1 = int(input('digite 1o numero: '))\n",
    "num2 = int(input('digite 2o numero: '))\n",
    "num3 = int(input('digite 3o numero: '))\n",
    "num4 = int(input('digite 4o numero: '))\n",
    "maior_num = -999\n",
    "\n",
    "if num1 > maior_num:\n",
    "    maior_num = num1\n",
    "if num2 > maior_num:\n",
    "    maior_num = num2\n",
    "if num3 > maior_num:\n",
    "    maior_num = num3\n",
    "if num4 > maior_num:\n",
    "    maior_num = num4\n",
    "print(maior_num)"
   ]
  }
 ],
 "metadata": {
  "kernelspec": {
   "display_name": "Python 3",
   "language": "python",
   "name": "python3"
  },
  "language_info": {
   "codemirror_mode": {
    "name": "ipython",
    "version": 3
   },
   "file_extension": ".py",
   "mimetype": "text/x-python",
   "name": "python",
   "nbconvert_exporter": "python",
   "pygments_lexer": "ipython3",
   "version": "3.7.3"
  }
 },
 "nbformat": 4,
 "nbformat_minor": 4
}
