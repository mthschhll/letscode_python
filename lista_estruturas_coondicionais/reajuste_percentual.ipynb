{
 "cells": [
  {
   "cell_type": "markdown",
   "metadata": {},
   "source": [
    "Um produto vai sofrer aumento de acordo com a tabela 1 abaixo, peça para o usuário digitar o valor do produto de acordo com o preço antigo e escreva uma das mensagens da tabela 2, de acordo com o preço reajustado:\n",
    "\n",
    "Preço antigo Percentual de aumento Até R$ 50 5%\n",
    "\n",
    "Entre R$ 50 𝑒 𝑅$ 100 10%\n",
    "\n",
    "Entre R$ 100 𝑒 𝑅$ 150 13%\n",
    "\n",
    "Acima de R$150 15%\n",
    "\n",
    "Preço Novo Mensagem\n",
    "\n",
    "Ate R$80 Barato\n",
    "\n",
    "Entre R$ 80 𝑒 𝑅$ 115 Razoável\n",
    "\n",
    "Entre R$ 115 𝑒 𝑅$ 150 Normal\n",
    "\n",
    "Entre R$ 150 𝑒 𝑅$ 170 Caro\n",
    "\n",
    "Acima de R$170 Muito caro"
   ]
  },
  {
   "cell_type": "code",
   "execution_count": 1,
   "metadata": {},
   "outputs": [
    {
     "name": "stdin",
     "output_type": "stream",
     "text": [
      "digite o valor de acordo com o preço antigo: R$ 56\n"
     ]
    },
    {
     "name": "stdout",
     "output_type": "stream",
     "text": [
      "barato\n"
     ]
    }
   ],
   "source": [
    "pa = float(input('digite o valor de acordo com o preço antigo: R$'))\n",
    "p1 = 0.05\n",
    "p2 = 0.10\n",
    "p3 = 0.13\n",
    "p4 = 0.15\n",
    "\n",
    "if(pa) <= 50:\n",
    "    valor_novo = p1 * pa + pa\n",
    "elif(pa) <= 100:\n",
    "    valor_novo = p2 * pa + pa\n",
    "elif (pa) <= 150:\n",
    "    valor_novo = p3 * pa + pa\n",
    "else:\n",
    "    valor_novo = p4 * pa + pa\n",
    "\n",
    "if(valor_novo) <= 80:\n",
    "    print('barato')\n",
    "elif(valor_novo) <= 115:\n",
    "    print('razoavel')\n",
    "elif(valor_novo) <= 150:\n",
    "    print('normal')\n",
    "elif(valor_novo) <= 170:\n",
    "    print('caro')\n",
    "else:\n",
    "    print('muito caro')\n"
   ]
  },
  {
   "cell_type": "code",
   "execution_count": null,
   "metadata": {},
   "outputs": [],
   "source": []
  }
 ],
 "metadata": {
  "kernelspec": {
   "display_name": "Python 3",
   "language": "python",
   "name": "python3"
  },
  "language_info": {
   "codemirror_mode": {
    "name": "ipython",
    "version": 3
   },
   "file_extension": ".py",
   "mimetype": "text/x-python",
   "name": "python",
   "nbconvert_exporter": "python",
   "pygments_lexer": "ipython3",
   "version": "3.7.3"
  }
 },
 "nbformat": 4,
 "nbformat_minor": 4
}
