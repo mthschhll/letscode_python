{
 "cells": [
  {
   "cell_type": "markdown",
   "metadata": {},
   "source": [
    "Escreva um programa que peça a nota de 3 provas de um aluno, e verifique se ele passou o não de ano: Obs: O aluno irá passar de ano se sua média for maior que 6."
   ]
  },
  {
   "cell_type": "code",
   "execution_count": null,
   "metadata": {},
   "outputs": [],
   "source": [
    "prova1 = float(input('digite 1a nota: '))\n",
    "prova2 = float(input('digite 2a prova: '))\n",
    "prova3 = float(input('digite 3a prova: '))\n",
    "resultado = prova1 + prova2 + prova3\n",
    "\n",
    "if resultado / 3 >= 6:\n",
    "    print('passou')\n",
    "else:\n",
    "    print('reprovou')"
   ]
  }
 ],
 "metadata": {
  "kernelspec": {
   "display_name": "Python 3",
   "language": "python",
   "name": "python3"
  },
  "language_info": {
   "codemirror_mode": {
    "name": "ipython",
    "version": 3
   },
   "file_extension": ".py",
   "mimetype": "text/x-python",
   "name": "python",
   "nbconvert_exporter": "python",
   "pygments_lexer": "ipython3",
   "version": "3.7.3"
  }
 },
 "nbformat": 4,
 "nbformat_minor": 4
}
