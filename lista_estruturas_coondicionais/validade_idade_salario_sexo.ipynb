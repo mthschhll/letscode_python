{
 "cells": [
  {
   "cell_type": "markdown",
   "metadata": {},
   "source": [
    "Faça um programa que leia a validade das informações:\n",
    "\n",
    "a. Idade: entre 0 e 150;\n",
    "\n",
    "b. Salário: maior que 0;\n",
    "\n",
    "c. Sexo: M, F ou Outro;\n",
    "\n",
    "O programa deve imprimir uma mensagem de erro para cada informação\n",
    "inválida."
   ]
  },
  {
   "cell_type": "code",
   "execution_count": null,
   "metadata": {},
   "outputs": [],
   "source": [
    "idade = int(input('digite idade: '))\n",
    "salario = float(input('digite seu salario: '))\n",
    "sexo = str(input('digite seu sexo: (m, f, outro)'))\n",
    "\n",
    "if idade <= 150:\n",
    "    print('idade valida')\n",
    "else:\n",
    "    print('informaçao invalida')\n",
    "    \n",
    "if salario > 0:\n",
    "    print('salario valido')\n",
    "else:\n",
    "    print('informaçao invalida')\n",
    "    \n",
    "if sexo == 'm':\n",
    "    print('sexo valido')\n",
    "elif sexo == 'f':\n",
    "    print('sexo valido')\n",
    "elif sexo == 'outro':\n",
    "    print('sexo valido')\n",
    "else:\n",
    "    print('informaçao invalida')"
   ]
  }
 ],
 "metadata": {
  "kernelspec": {
   "display_name": "Python 3",
   "language": "python",
   "name": "python3"
  },
  "language_info": {
   "codemirror_mode": {
    "name": "ipython",
    "version": 3
   },
   "file_extension": ".py",
   "mimetype": "text/x-python",
   "name": "python",
   "nbconvert_exporter": "python",
   "pygments_lexer": "ipython3",
   "version": "3.7.3"
  }
 },
 "nbformat": 4,
 "nbformat_minor": 4
}
