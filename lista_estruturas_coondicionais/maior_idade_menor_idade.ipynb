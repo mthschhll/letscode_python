{
 "cells": [
  {
   "cell_type": "markdown",
   "metadata": {},
   "source": [
    "Peça a idade do usuário e imprima se ele é maior ou menor de 18 anos;"
   ]
  },
  {
   "cell_type": "code",
   "execution_count": 2,
   "metadata": {},
   "outputs": [
    {
     "name": "stdin",
     "output_type": "stream",
     "text": [
      "Digite sua idade:  14\n"
     ]
    },
    {
     "name": "stdout",
     "output_type": "stream",
     "text": [
      "MENOR DE IDADE\n"
     ]
    }
   ],
   "source": [
    "usuario = int(input('Digite sua idade: '))\n",
    "\n",
    "if usuario > 18:\n",
    "    print('MAIOR DE IDADE')\n",
    "elif usuario == 18:\n",
    "    print('IDADE MINIMA PERMITIDA')\n",
    "else:\n",
    "    print('MENOR DE IDADE')"
   ]
  }
 ],
 "metadata": {
  "kernelspec": {
   "display_name": "Python 3",
   "language": "python",
   "name": "python3"
  },
  "language_info": {
   "codemirror_mode": {
    "name": "ipython",
    "version": 3
   },
   "file_extension": ".py",
   "mimetype": "text/x-python",
   "name": "python",
   "nbconvert_exporter": "python",
   "pygments_lexer": "ipython3",
   "version": "3.7.3"
  }
 },
 "nbformat": 4,
 "nbformat_minor": 4
}
