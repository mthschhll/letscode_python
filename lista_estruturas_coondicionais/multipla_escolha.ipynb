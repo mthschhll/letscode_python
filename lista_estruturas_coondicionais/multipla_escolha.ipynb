{
 "cells": [
  {
   "cell_type": "markdown",
   "metadata": {},
   "source": [
    "Fazer um programa que mostre uma questão de múltipla escolha com 5\n",
    "opções (letras a, b, c, d, e e). Sabendo a resposta certa, receber a opção do\n",
    "usuário e informar a letra que o usuário marcou e se a resposta está certa\n",
    "ou errada."
   ]
  },
  {
   "cell_type": "code",
   "execution_count": null,
   "metadata": {},
   "outputs": [],
   "source": [
    "input('2+2 é igual a qual alternativa?\\n'\n",
    "'a) 1\\n'\n",
    "'b) 2\\n'\n",
    "'c) 3\\n'\n",
    "'d) 4\\n'\n",
    "'e) 5\\n')\n",
    "usuario = input('digite alternativa correta: ')\n",
    "\n",
    "if usuario == 'd':\n",
    "    print('alternativa certa')\n",
    "else:\n",
    "    print('alternativa errada')"
   ]
  }
 ],
 "metadata": {
  "kernelspec": {
   "display_name": "",
   "name": ""
  },
  "language_info": {
   "codemirror_mode": {
    "name": "ipython",
    "version": 3
   },
   "file_extension": ".py",
   "mimetype": "text/x-python",
   "name": "python",
   "nbconvert_exporter": "python",
   "pygments_lexer": "ipython3",
   "version": "3.7.3"
  }
 },
 "nbformat": 4,
 "nbformat_minor": 4
}
