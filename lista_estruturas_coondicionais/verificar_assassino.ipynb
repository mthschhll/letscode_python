{
 "cells": [
  {
   "cell_type": "markdown",
   "metadata": {},
   "source": [
    "Vamos fazer um programa para verificar quem é o assassino de um crime. Para descobri a polícia reuniu um os suspeitos e fez um pequeno questionário com 5 perguntas de sim ou não: a. Telefonou para a vítima? b. Esteve no local do crime? c. Mora perto da vítima? d. Devia para a vítima? e. Já trabalhou com a vítima?"
   ]
  },
  {
   "cell_type": "code",
   "execution_count": null,
   "metadata": {},
   "outputs": [],
   "source": [
    "perg1 = input('telefonou pra vitima? ')\n",
    "perg2 = input('esteve no local do crime? ')\n",
    "perg3 = input('mora perto da vitima? ')\n",
    "perg4 = input('devia para a vitima? ')\n",
    "perg5 = input('ja trabalhou com a vitima? ')\n",
    "x = 0\n",
    "nao = (x)\n",
    "\n",
    "if perg1 == 'sim':\n",
    "    x +=1\n",
    "if perg2 == 'sim':\n",
    "    x +=1\n",
    "if perg3 == 'sim':\n",
    "    x+=1\n",
    "if perg4 == 'sim':\n",
    "    x +=1\n",
    "if perg5 == 'sim':\n",
    "    x +=1\n",
    "print(x)\n",
    "\n",
    "if x == 5:\n",
    "    print('assassino')\n",
    "elif x == 4:\n",
    "    print('cumplice')\n",
    "elif x ==3:\n",
    "    print('cumplice')\n",
    "elif x == 2:\n",
    "    print('suspeito, necessita outras investigaçoes')\n",
    "else:\n",
    "    print('liberado')"
   ]
  }
 ],
 "metadata": {
  "kernelspec": {
   "display_name": "Python 3",
   "language": "python",
   "name": "python3"
  },
  "language_info": {
   "codemirror_mode": {
    "name": "ipython",
    "version": 3
   },
   "file_extension": ".py",
   "mimetype": "text/x-python",
   "name": "python",
   "nbconvert_exporter": "python",
   "pygments_lexer": "ipython3",
   "version": "3.7.3"
  }
 },
 "nbformat": 4,
 "nbformat_minor": 4
}
