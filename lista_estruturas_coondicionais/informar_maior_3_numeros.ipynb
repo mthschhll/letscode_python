{
 "cells": [
  {
   "cell_type": "markdown",
   "metadata": {},
   "source": [
    "Faça um programa que leia 3 números e informe o maior deles;"
   ]
  },
  {
   "cell_type": "code",
   "execution_count": 9,
   "metadata": {},
   "outputs": [
    {
     "name": "stdin",
     "output_type": "stream",
     "text": [
      "digite primeiro numero:  3\n",
      "digite segundo numero:  4\n",
      "digite terceiro numero:  5\n"
     ]
    },
    {
     "name": "stdout",
     "output_type": "stream",
     "text": [
      "5\n"
     ]
    }
   ],
   "source": [
    "num1 = int(input('digite primeiro numero: '))\n",
    "num2 = int(input('digite segundo numero: '))\n",
    "num3 = int(input('digite terceiro numero: '))\n",
    "maior_num = -999\n",
    "if num1 > maior_num:\n",
    "    maior_num = num1\n",
    "if num2 > maior_num:\n",
    "    maior_num = num2\n",
    "if num3 > maior_num:\n",
    "    maior_num = num3\n",
    "print(maior_num)\n"
   ]
  },
  {
   "cell_type": "code",
   "execution_count": null,
   "metadata": {},
   "outputs": [],
   "source": []
  },
  {
   "cell_type": "code",
   "execution_count": null,
   "metadata": {},
   "outputs": [],
   "source": []
  }
 ],
 "metadata": {
  "kernelspec": {
   "display_name": "Python 3",
   "language": "python",
   "name": "python3"
  },
  "language_info": {
   "codemirror_mode": {
    "name": "ipython",
    "version": 3
   },
   "file_extension": ".py",
   "mimetype": "text/x-python",
   "name": "python",
   "nbconvert_exporter": "python",
   "pygments_lexer": "ipython3",
   "version": "3.7.3"
  }
 },
 "nbformat": 4,
 "nbformat_minor": 4
}
