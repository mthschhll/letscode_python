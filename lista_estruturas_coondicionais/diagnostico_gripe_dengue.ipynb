{
 "cells": [
  {
   "cell_type": "markdown",
   "metadata": {},
   "source": [
    "Um hospital quer fazer o diagnóstico de gripe ou dengue a partir de um\n",
    "questionário de sintomas, tendo as perguntas abaixo, faça um programa\n",
    "que faça o diagnóstico deste hospital:\n",
    "    \n",
    "a. Sente dor no corpo?\n",
    "\n",
    "b. Você tem febre?\n",
    "\n",
    "c. Você tem tosse?\n",
    "\n",
    "d. Está com congestão nasal?\n",
    "\n",
    "e. Tem manchas pelo corpo?\n",
    "\n",
    "Para o diagnóstico ele tem a seguinte tabela:\n",
    "\n",
    "    A B C D E Resultado\n",
    "\n",
    "    Sim Sim Não Não Sim Dengue\n",
    "\n",
    "    Sim Sim Sim Sim Não gripe\n",
    "\n",
    "    Não Sim Sim Sim Não gripe\n",
    "    \n",
    "\n",
    "    Sim Não Sim Sim Não Gripe\n",
    "\n",
    "    Sim Não Não Não Não Sem Doenças\n",
    "\n",
    "    Não Não Não Não Não Sem Doenças"
   ]
  },
  {
   "cell_type": "code",
   "execution_count": 13,
   "metadata": {},
   "outputs": [
    {
     "name": "stdin",
     "output_type": "stream",
     "text": [
      "sente dor no corpo?  nao\n",
      "voce tem febre?  nao\n",
      "voce em tosse?  nao\n",
      "esta com congestao nasal?  nao\n",
      "tem manchas no corpo? nao\n"
     ]
    },
    {
     "name": "stdout",
     "output_type": "stream",
     "text": [
      "sem doença\n"
     ]
    }
   ],
   "source": [
    "perg1 = input('sente dor no corpo? ')\n",
    "perg2 = input('voce tem febre? ')\n",
    "perg3 = input('voce em tosse? ')\n",
    "perg4 = input('esta com congestao nasal? ')\n",
    "perg5 = input('tem manchas no corpo?' )\n",
    "\n",
    "if perg1 and perg2 and perg5 == 'sim':\n",
    "    print('dengue')\n",
    "elif perg1 and perg2 and perg3 and perg4 == 'sim':\n",
    "    print('gripe')\n",
    "elif perg2 and perg3 and perg4 == 'sim':\n",
    "    print('gripe')\n",
    "elif perg1 and perg3 and perg4 == 'sim':\n",
    "    print('gripe')\n",
    "elif perg1 == 'sim':\n",
    "    print('sem doença')\n",
    "else:\n",
    "    print('sem doença')"
   ]
  }
 ],
 "metadata": {
  "kernelspec": {
   "display_name": "Python 3",
   "language": "python",
   "name": "python3"
  },
  "language_info": {
   "codemirror_mode": {
    "name": "ipython",
    "version": 3
   },
   "file_extension": ".py",
   "mimetype": "text/x-python",
   "name": "python",
   "nbconvert_exporter": "python",
   "pygments_lexer": "ipython3",
   "version": "3.7.3"
  }
 },
 "nbformat": 4,
 "nbformat_minor": 4
}
